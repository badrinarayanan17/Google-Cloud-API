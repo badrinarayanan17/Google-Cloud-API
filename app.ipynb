{
 "cells": [
  {
   "cell_type": "code",
   "execution_count": null,
   "metadata": {},
   "outputs": [],
   "source": [
    "pip install google-cloud-storage"
   ]
  },
  {
   "cell_type": "code",
   "execution_count": null,
   "metadata": {},
   "outputs": [],
   "source": [
    "pip install google-cloud-speech"
   ]
  },
  {
   "cell_type": "code",
   "execution_count": 23,
   "metadata": {},
   "outputs": [
    {
     "name": "stdout",
     "output_type": "stream",
     "text": [
      "Transcription saved to gs://2348507/transcription.txt\n"
     ]
    }
   ],
   "source": [
    "from google.cloud import storage, speech\n",
    "import os\n",
    "import tempfile\n",
    "\n",
    "def transcribe_audio(bucket_name, audio_file_name, output_file_name):\n",
    "    os.environ[\"GOOGLE_APPLICATION_CREDENTIALS\"] = \"C://Users//USER//Downloads//essential-vim-431802-c4-3b7658625d5f.json\"\n",
    "    storage_client = storage.Client()\n",
    "    bucket = storage_client.bucket(bucket_name)\n",
    "    \n",
    "    temp_dir = tempfile.gettempdir()\n",
    "    local_audio_path = os.path.join(temp_dir, audio_file_name)\n",
    "    local_output_path = os.path.join(temp_dir, output_file_name)\n",
    "\n",
    "    audio_blob = bucket.blob(audio_file_name)\n",
    "    audio_blob.download_to_filename(local_audio_path)\n",
    "    \n",
    "    speech_client = speech.SpeechClient()\n",
    "    \n",
    "    with open(local_audio_path, 'rb') as audio_file:\n",
    "        audio_content = audio_file.read()\n",
    "    \n",
    "    audio = speech.RecognitionAudio(content=audio_content)\n",
    "    config = speech.RecognitionConfig(\n",
    "        encoding=speech.RecognitionConfig.AudioEncoding.LINEAR16,\n",
    "        sample_rate_hertz=44100,\n",
    "        language_code=\"en-US\",\n",
    "    )\n",
    "    \n",
    "    response = speech_client.recognize(config=config, audio=audio)\n",
    "    \n",
    "    transcript = \"\"\n",
    "    for result in response.results:\n",
    "        transcript += result.alternatives[0].transcript + \"\\n\"\n",
    "    \n",
    "    with open(local_output_path, 'w') as output_file:\n",
    "        output_file.write(transcript)\n",
    "    \n",
    "    output_blob = bucket.blob(output_file_name)\n",
    "    output_blob.upload_from_filename(local_output_path)\n",
    "    \n",
    "    print(f'Transcription saved to gs://{bucket_name}/{output_file_name}')\n",
    "\n",
    "bucket_name = '2348507'\n",
    "audio_file_name = 'bbaf2n.wav'\n",
    "output_file_name = 'transcription.txt'\n",
    "\n",
    "transcribe_audio(bucket_name, audio_file_name, output_file_name)\n"
   ]
  },
  {
   "cell_type": "code",
   "execution_count": null,
   "metadata": {},
   "outputs": [],
   "source": [
    "pip install pydub"
   ]
  },
  {
   "cell_type": "code",
   "execution_count": 21,
   "metadata": {},
   "outputs": [
    {
     "name": "stderr",
     "output_type": "stream",
     "text": [
      "C:\\Users\\USER\\AppData\\Local\\Packages\\PythonSoftwareFoundation.Python.3.10_qbz5n2kfra8p0\\LocalCache\\local-packages\\Python310\\site-packages\\pydub\\utils.py:170: RuntimeWarning: Couldn't find ffmpeg or avconv - defaulting to ffmpeg, but may not work\n",
      "  warn(\"Couldn't find ffmpeg or avconv - defaulting to ffmpeg, but may not work\", RuntimeWarning)\n"
     ]
    },
    {
     "data": {
      "text/plain": [
       "<_io.BufferedRandom name='C://Users//USER//Downloads//bbaf2n.wav'>"
      ]
     },
     "execution_count": 21,
     "metadata": {},
     "output_type": "execute_result"
    }
   ],
   "source": [
    "from pydub import AudioSegment\n",
    "\n",
    "stereo_audio = AudioSegment.from_wav(\"C://Users//USER//Downloads//bbaf2n.wav\")\n",
    "mono_audio = stereo_audio.set_channels(1)\n",
    "mono_audio.export(\"C://Users//USER//Downloads//bbaf2n.wav\", format=\"wav\")\n"
   ]
  }
 ],
 "metadata": {
  "kernelspec": {
   "display_name": "Python 3",
   "language": "python",
   "name": "python3"
  },
  "language_info": {
   "codemirror_mode": {
    "name": "ipython",
    "version": 3
   },
   "file_extension": ".py",
   "mimetype": "text/x-python",
   "name": "python",
   "nbconvert_exporter": "python",
   "pygments_lexer": "ipython3",
   "version": "3.10.11"
  }
 },
 "nbformat": 4,
 "nbformat_minor": 2
}
